{
 "cells": [
  {
   "cell_type": "markdown",
   "metadata": {},
   "source": [
    "---\n",
    "\n",
    "_You are currently looking at **version 1.0** of this notebook. To download notebooks and datafiles, as well as get help on Jupyter notebooks in the Coursera platform, visit the [Jupyter Notebook FAQ](https://www.coursera.org/learn/python-machine-learning/resources/bANLa) course resource._\n",
    "\n",
    "---"
   ]
  },
  {
   "cell_type": "markdown",
   "metadata": {
    "collapsed": true
   },
   "source": [
    "# Applied Machine Learning: Module 3 (Evaluation)"
   ]
  },
  {
   "cell_type": "markdown",
   "metadata": {},
   "source": [
    "## Evaluation for Classification"
   ]
  },
  {
   "cell_type": "markdown",
   "metadata": {},
   "source": [
    "### Preamble"
   ]
  },
  {
   "cell_type": "code",
   "execution_count": 1,
   "metadata": {},
   "outputs": [
    {
     "name": "stdout",
     "output_type": "stream",
     "text": [
      "0 178\n",
      "1 182\n",
      "2 177\n",
      "3 183\n",
      "4 181\n",
      "5 182\n",
      "6 181\n",
      "7 179\n",
      "8 174\n",
      "9 180\n"
     ]
    }
   ],
   "source": [
    "%matplotlib notebook\n",
    "import numpy as np\n",
    "import pandas as pd\n",
    "import seaborn as sns\n",
    "import matplotlib.pyplot as plt\n",
    "from sklearn.model_selection import train_test_split\n",
    "from sklearn.datasets import load_digits\n",
    "\n",
    "dataset = load_digits()\n",
    "X, y = dataset.data, dataset.target\n",
    "\n",
    "for class_name, class_count in zip(dataset.target_names, np.bincount(dataset.target)):\n",
    "    print(class_name,class_count)"
   ]
  },
  {
   "cell_type": "code",
   "execution_count": 2,
   "metadata": {},
   "outputs": [
    {
     "name": "stdout",
     "output_type": "stream",
     "text": [
      "Original labels:\t [1 2 3 4 5 6 7 8 9 0 1 2 3 4 5 6 7 8 9 0 1 2 3 4 5 6 7 8 9]\n",
      "New binary labels:\t [1 0 0 0 0 0 0 0 0 0 1 0 0 0 0 0 0 0 0 0 1 0 0 0 0 0 0 0 0]\n"
     ]
    }
   ],
   "source": [
    "# Creating a dataset with imbalanced binary classes:  \n",
    "# Negative class (0) is 'not digit 1' \n",
    "# Positive class (1) is 'digit 1'\n",
    "y_binary_imbalanced = y.copy()\n",
    "y_binary_imbalanced[y_binary_imbalanced != 1] = 0\n",
    "\n",
    "print('Original labels:\\t', y[1:30])\n",
    "print('New binary labels:\\t', y_binary_imbalanced[1:30])"
   ]
  },
  {
   "cell_type": "code",
   "execution_count": 3,
   "metadata": {
    "scrolled": true
   },
   "outputs": [
    {
     "data": {
      "text/plain": [
       "array([1615,  182], dtype=int64)"
      ]
     },
     "execution_count": 3,
     "metadata": {},
     "output_type": "execute_result"
    }
   ],
   "source": [
    "np.bincount(y_binary_imbalanced)    # Negative class (0) is the most frequent class"
   ]
  },
  {
   "cell_type": "code",
   "execution_count": 4,
   "metadata": {},
   "outputs": [
    {
     "data": {
      "text/plain": [
       "0.9088888888888889"
      ]
     },
     "execution_count": 4,
     "metadata": {},
     "output_type": "execute_result"
    }
   ],
   "source": [
    "X_train, X_test, y_train, y_test = train_test_split(X, y_binary_imbalanced, random_state=0)\n",
    "\n",
    "# Accuracy of Support Vector Machine classifier\n",
    "from sklearn.svm import SVC\n",
    "\n",
    "svm = SVC(kernel='rbf', C=1).fit(X_train, y_train)\n",
    "svm.score(X_test, y_test)"
   ]
  },
  {
   "cell_type": "markdown",
   "metadata": {},
   "source": [
    "### Dummy Classifiers"
   ]
  },
  {
   "cell_type": "markdown",
   "metadata": {
    "collapsed": true
   },
   "source": [
    "DummyClassifier is a classifier that makes predictions using simple rules, which can be useful as a baseline for comparison against actual classifiers, especially with imbalanced classes."
   ]
  },
  {
   "cell_type": "code",
   "execution_count": 5,
   "metadata": {},
   "outputs": [
    {
     "data": {
      "text/plain": [
       "array([0, 0, 0, 0, 0, 0, 0, 0, 0, 0, 0, 0, 0, 0, 0, 0, 0, 0, 0, 0, 0, 0,\n",
       "       0, 0, 0, 0, 0, 0, 0, 0, 0, 0, 0, 0, 0, 0, 0, 0, 0, 0, 0, 0, 0, 0,\n",
       "       0, 0, 0, 0, 0, 0, 0, 0, 0, 0, 0, 0, 0, 0, 0, 0, 0, 0, 0, 0, 0, 0,\n",
       "       0, 0, 0, 0, 0, 0, 0, 0, 0, 0, 0, 0, 0, 0, 0, 0, 0, 0, 0, 0, 0, 0,\n",
       "       0, 0, 0, 0, 0, 0, 0, 0, 0, 0, 0, 0, 0, 0, 0, 0, 0, 0, 0, 0, 0, 0,\n",
       "       0, 0, 0, 0, 0, 0, 0, 0, 0, 0, 0, 0, 0, 0, 0, 0, 0, 0, 0, 0, 0, 0,\n",
       "       0, 0, 0, 0, 0, 0, 0, 0, 0, 0, 0, 0, 0, 0, 0, 0, 0, 0, 0, 0, 0, 0,\n",
       "       0, 0, 0, 0, 0, 0, 0, 0, 0, 0, 0, 0, 0, 0, 0, 0, 0, 0, 0, 0, 0, 0,\n",
       "       0, 0, 0, 0, 0, 0, 0, 0, 0, 0, 0, 0, 0, 0, 0, 0, 0, 0, 0, 0, 0, 0,\n",
       "       0, 0, 0, 0, 0, 0, 0, 0, 0, 0, 0, 0, 0, 0, 0, 0, 0, 0, 0, 0, 0, 0,\n",
       "       0, 0, 0, 0, 0, 0, 0, 0, 0, 0, 0, 0, 0, 0, 0, 0, 0, 0, 0, 0, 0, 0,\n",
       "       0, 0, 0, 0, 0, 0, 0, 0, 0, 0, 0, 0, 0, 0, 0, 0, 0, 0, 0, 0, 0, 0,\n",
       "       0, 0, 0, 0, 0, 0, 0, 0, 0, 0, 0, 0, 0, 0, 0, 0, 0, 0, 0, 0, 0, 0,\n",
       "       0, 0, 0, 0, 0, 0, 0, 0, 0, 0, 0, 0, 0, 0, 0, 0, 0, 0, 0, 0, 0, 0,\n",
       "       0, 0, 0, 0, 0, 0, 0, 0, 0, 0, 0, 0, 0, 0, 0, 0, 0, 0, 0, 0, 0, 0,\n",
       "       0, 0, 0, 0, 0, 0, 0, 0, 0, 0, 0, 0, 0, 0, 0, 0, 0, 0, 0, 0, 0, 0,\n",
       "       0, 0, 0, 0, 0, 0, 0, 0, 0, 0, 0, 0, 0, 0, 0, 0, 0, 0, 0, 0, 0, 0,\n",
       "       0, 0, 0, 0, 0, 0, 0, 0, 0, 0, 0, 0, 0, 0, 0, 0, 0, 0, 0, 0, 0, 0,\n",
       "       0, 0, 0, 0, 0, 0, 0, 0, 0, 0, 0, 0, 0, 0, 0, 0, 0, 0, 0, 0, 0, 0,\n",
       "       0, 0, 0, 0, 0, 0, 0, 0, 0, 0, 0, 0, 0, 0, 0, 0, 0, 0, 0, 0, 0, 0,\n",
       "       0, 0, 0, 0, 0, 0, 0, 0, 0, 0])"
      ]
     },
     "execution_count": 5,
     "metadata": {},
     "output_type": "execute_result"
    }
   ],
   "source": [
    "from sklearn.dummy import DummyClassifier\n",
    "\n",
    "# Negative class (0) is most frequent\n",
    "dummy_majority = DummyClassifier(strategy = 'most_frequent').fit(X_train, y_train)\n",
    "# Therefore the dummy 'most_frequent' classifier always predicts class 0\n",
    "y_dummy_predictions = dummy_majority.predict(X_test)\n",
    "\n",
    "y_dummy_predictions"
   ]
  },
  {
   "cell_type": "code",
   "execution_count": 6,
   "metadata": {},
   "outputs": [
    {
     "data": {
      "text/plain": [
       "0.9044444444444445"
      ]
     },
     "execution_count": 6,
     "metadata": {},
     "output_type": "execute_result"
    }
   ],
   "source": [
    "dummy_majority.score(X_test, y_test)"
   ]
  },
  {
   "cell_type": "code",
   "execution_count": 7,
   "metadata": {},
   "outputs": [
    {
     "data": {
      "text/plain": [
       "0.9777777777777777"
      ]
     },
     "execution_count": 7,
     "metadata": {},
     "output_type": "execute_result"
    }
   ],
   "source": [
    "svm = SVC(kernel='linear', C=1).fit(X_train, y_train)\n",
    "svm.score(X_test, y_test)"
   ]
  },
  {
   "cell_type": "markdown",
   "metadata": {},
   "source": [
    "### Confusion matrices"
   ]
  },
  {
   "cell_type": "markdown",
   "metadata": {},
   "source": [
    "#### Binary (two-class) confusion matrix"
   ]
  },
  {
   "cell_type": "code",
   "execution_count": 8,
   "metadata": {},
   "outputs": [
    {
     "name": "stdout",
     "output_type": "stream",
     "text": [
      "Most frequent class (dummy classifier)\n",
      " [[407   0]\n",
      " [ 43   0]]\n"
     ]
    }
   ],
   "source": [
    "from sklearn.metrics import confusion_matrix\n",
    "\n",
    "# Negative class (0) is most frequent\n",
    "dummy_majority = DummyClassifier(strategy = 'most_frequent').fit(X_train, y_train)\n",
    "y_majority_predicted = dummy_majority.predict(X_test)\n",
    "confusion = confusion_matrix(y_test, y_majority_predicted)\n",
    "\n",
    "print('Most frequent class (dummy classifier)\\n', confusion)"
   ]
  },
  {
   "cell_type": "code",
   "execution_count": 9,
   "metadata": {},
   "outputs": [
    {
     "name": "stdout",
     "output_type": "stream",
     "text": [
      "Random class-proportional prediction (dummy classifier)\n",
      " [[357  50]\n",
      " [ 40   3]]\n"
     ]
    }
   ],
   "source": [
    "# produces random predictions w/ same class proportion as training set\n",
    "dummy_classprop = DummyClassifier(strategy='stratified').fit(X_train, y_train)\n",
    "y_classprop_predicted = dummy_classprop.predict(X_test)\n",
    "confusion = confusion_matrix(y_test, y_classprop_predicted)\n",
    "\n",
    "print('Random class-proportional prediction (dummy classifier)\\n', confusion)"
   ]
  },
  {
   "cell_type": "code",
   "execution_count": 10,
   "metadata": {
    "scrolled": true
   },
   "outputs": [
    {
     "name": "stdout",
     "output_type": "stream",
     "text": [
      "Support vector machine classifier (linear kernel, C=1)\n",
      " [[402   5]\n",
      " [  5  38]]\n"
     ]
    }
   ],
   "source": [
    "svm = SVC(kernel='linear', C=1).fit(X_train, y_train)\n",
    "svm_predicted = svm.predict(X_test)\n",
    "confusion = confusion_matrix(y_test, svm_predicted)\n",
    "\n",
    "print('Support vector machine classifier (linear kernel, C=1)\\n', confusion)"
   ]
  },
  {
   "cell_type": "code",
   "execution_count": 11,
   "metadata": {},
   "outputs": [
    {
     "name": "stdout",
     "output_type": "stream",
     "text": [
      "Logistic regression classifier (default settings)\n",
      " [[401   6]\n",
      " [  6  37]]\n"
     ]
    }
   ],
   "source": [
    "from sklearn.linear_model import LogisticRegression\n",
    "\n",
    "lr = LogisticRegression().fit(X_train, y_train)\n",
    "lr_predicted = lr.predict(X_test)\n",
    "confusion = confusion_matrix(y_test, lr_predicted)\n",
    "\n",
    "print('Logistic regression classifier (default settings)\\n', confusion)"
   ]
  },
  {
   "cell_type": "code",
   "execution_count": 12,
   "metadata": {},
   "outputs": [
    {
     "name": "stdout",
     "output_type": "stream",
     "text": [
      "Decision tree classifier (max_depth = 2)\n",
      " [[400   7]\n",
      " [ 17  26]]\n"
     ]
    }
   ],
   "source": [
    "from sklearn.tree import DecisionTreeClassifier\n",
    "\n",
    "dt = DecisionTreeClassifier(max_depth=2).fit(X_train, y_train)\n",
    "tree_predicted = dt.predict(X_test)\n",
    "confusion = confusion_matrix(y_test, tree_predicted)\n",
    "\n",
    "print('Decision tree classifier (max_depth = 2)\\n', confusion)"
   ]
  },
  {
   "cell_type": "markdown",
   "metadata": {},
   "source": [
    "### Evaluation metrics for binary classification"
   ]
  },
  {
   "cell_type": "code",
   "execution_count": 13,
   "metadata": {},
   "outputs": [
    {
     "name": "stdout",
     "output_type": "stream",
     "text": [
      "Accuracy: 0.95\n",
      "Precision: 0.79\n",
      "Recall: 0.60\n",
      "F1: 0.68\n"
     ]
    }
   ],
   "source": [
    "from sklearn.metrics import accuracy_score, precision_score, recall_score, f1_score\n",
    "# Accuracy = TP + TN / (TP + TN + FP + FN)\n",
    "# Precision = TP / (TP + FP)\n",
    "# Recall = TP / (TP + FN)  Also known as sensitivity, or True Positive Rate\n",
    "# F1 = 2 * Precision * Recall / (Precision + Recall) \n",
    "print('Accuracy: {:.2f}'.format(accuracy_score(y_test, tree_predicted)))\n",
    "print('Precision: {:.2f}'.format(precision_score(y_test, tree_predicted)))\n",
    "print('Recall: {:.2f}'.format(recall_score(y_test, tree_predicted)))\n",
    "print('F1: {:.2f}'.format(f1_score(y_test, tree_predicted)))"
   ]
  },
  {
   "cell_type": "code",
   "execution_count": 14,
   "metadata": {},
   "outputs": [
    {
     "name": "stdout",
     "output_type": "stream",
     "text": [
      "             precision    recall  f1-score   support\n",
      "\n",
      "      not 1       0.96      0.98      0.97       407\n",
      "          1       0.79      0.60      0.68        43\n",
      "\n",
      "avg / total       0.94      0.95      0.94       450\n",
      "\n"
     ]
    }
   ],
   "source": [
    "# Combined report with all above metrics\n",
    "from sklearn.metrics import classification_report\n",
    "\n",
    "print(classification_report(y_test, tree_predicted, target_names=['not 1', '1']))"
   ]
  },
  {
   "cell_type": "code",
   "execution_count": 15,
   "metadata": {
    "scrolled": false
   },
   "outputs": [
    {
     "name": "stdout",
     "output_type": "stream",
     "text": [
      "Random class-proportional (dummy)\n",
      "              precision    recall  f1-score   support\n",
      "\n",
      "      not 1       0.90      0.88      0.89       407\n",
      "          1       0.06      0.07      0.06        43\n",
      "\n",
      "avg / total       0.82      0.80      0.81       450\n",
      "\n",
      "SVM\n",
      "              precision    recall  f1-score   support\n",
      "\n",
      "      not 1       0.99      0.99      0.99       407\n",
      "          1       0.88      0.88      0.88        43\n",
      "\n",
      "avg / total       0.98      0.98      0.98       450\n",
      "\n",
      "Logistic regression\n",
      "              precision    recall  f1-score   support\n",
      "\n",
      "      not 1       0.99      0.99      0.99       407\n",
      "          1       0.86      0.86      0.86        43\n",
      "\n",
      "avg / total       0.97      0.97      0.97       450\n",
      "\n",
      "Decision tree\n",
      "              precision    recall  f1-score   support\n",
      "\n",
      "      not 1       0.96      0.98      0.97       407\n",
      "          1       0.79      0.60      0.68        43\n",
      "\n",
      "avg / total       0.94      0.95      0.94       450\n",
      "\n"
     ]
    }
   ],
   "source": [
    "print('Random class-proportional (dummy)\\n', \n",
    "      classification_report(y_test, y_classprop_predicted, target_names=['not 1', '1']))\n",
    "print('SVM\\n', \n",
    "      classification_report(y_test, svm_predicted, target_names = ['not 1', '1']))\n",
    "print('Logistic regression\\n', \n",
    "      classification_report(y_test, lr_predicted, target_names = ['not 1', '1']))\n",
    "print('Decision tree\\n', \n",
    "      classification_report(y_test, tree_predicted, target_names = ['not 1', '1']))"
   ]
  },
  {
   "cell_type": "markdown",
   "metadata": {},
   "source": [
    "### Decision functions"
   ]
  },
  {
   "cell_type": "code",
   "execution_count": 16,
   "metadata": {},
   "outputs": [
    {
     "data": {
      "text/plain": [
       "[(0, -23.177190659057413),\n",
       " (0, -13.541499275924934),\n",
       " (0, -21.722931392118863),\n",
       " (0, -18.907331592939087),\n",
       " (0, -19.735710477993003),\n",
       " (0, -9.749881951500523),\n",
       " (1, 5.234934901586263),\n",
       " (0, -19.307654905146972),\n",
       " (0, -25.101179084160105),\n",
       " (0, -21.827293939603223),\n",
       " (0, -24.151385315482127),\n",
       " (0, -19.57697045677537),\n",
       " (0, -22.574536340741492),\n",
       " (0, -10.823178014466372),\n",
       " (0, -11.91199599279311),\n",
       " (0, -10.979093931056003),\n",
       " (1, 11.206094761125225),\n",
       " (0, -27.64601060941326),\n",
       " (0, -12.859207350646066),\n",
       " (0, -25.848766509204186)]"
      ]
     },
     "execution_count": 16,
     "metadata": {},
     "output_type": "execute_result"
    }
   ],
   "source": [
    "X_train, X_test, y_train, y_test = train_test_split(X, y_binary_imbalanced, random_state=0)\n",
    "y_scores_lr = lr.fit(X_train, y_train).decision_function(X_test)\n",
    "y_score_list = list(zip(y_test[0:20], y_scores_lr[0:20]))\n",
    "\n",
    "# show the decision_function scores for first 20 instances\n",
    "y_score_list"
   ]
  },
  {
   "cell_type": "code",
   "execution_count": 17,
   "metadata": {},
   "outputs": [
    {
     "data": {
      "text/plain": [
       "[(0, 8.595556329003577e-11),\n",
       " (0, 1.3152279108008344e-06),\n",
       " (0, 3.6800249698884413e-10),\n",
       " (0, 6.146816084115751e-09),\n",
       " (0, 2.6846633981073727e-09),\n",
       " (0, 5.8298146862571315e-05),\n",
       " (1, 0.994701057113338),\n",
       " (0, 4.119002109861467e-09),\n",
       " (0, 1.2551523237968057e-11),\n",
       " (0, 3.315329415875665e-10),\n",
       " (0, 3.24479024110104e-11),\n",
       " (0, 3.1465146408233984e-09),\n",
       " (0, 1.570375227232466e-10),\n",
       " (0, 1.9931723568128993e-05),\n",
       " (0, 6.709388778888975e-06),\n",
       " (0, 1.7054252267886335e-05),\n",
       " (1, 0.9999864090761522),\n",
       " (0, 9.851222897501183e-13),\n",
       " (0, 2.6020526264294253e-06),\n",
       " (0, 5.943240995520533e-12)]"
      ]
     },
     "execution_count": 17,
     "metadata": {},
     "output_type": "execute_result"
    }
   ],
   "source": [
    "X_train, X_test, y_train, y_test = train_test_split(X, y_binary_imbalanced, random_state=0)\n",
    "y_proba_lr = lr.fit(X_train, y_train).predict_proba(X_test)\n",
    "y_proba_list = list(zip(y_test[0:20], y_proba_lr[0:20,1]))\n",
    "\n",
    "# show the probability of positive class for first 20 instances\n",
    "y_proba_list"
   ]
  },
  {
   "cell_type": "markdown",
   "metadata": {},
   "source": [
    "### Precision-recall curves"
   ]
  },
  {
   "cell_type": "code",
   "execution_count": 18,
   "metadata": {},
   "outputs": [
    {
     "data": {
      "application/javascript": [
       "/* Put everything inside the global mpl namespace */\n",
       "window.mpl = {};\n",
       "\n",
       "\n",
       "mpl.get_websocket_type = function() {\n",
       "    if (typeof(WebSocket) !== 'undefined') {\n",
       "        return WebSocket;\n",
       "    } else if (typeof(MozWebSocket) !== 'undefined') {\n",
       "        return MozWebSocket;\n",
       "    } else {\n",
       "        alert('Your browser does not have WebSocket support.' +\n",
       "              'Please try Chrome, Safari or Firefox ≥ 6. ' +\n",
       "              'Firefox 4 and 5 are also supported but you ' +\n",
       "              'have to enable WebSockets in about:config.');\n",
       "    };\n",
       "}\n",
       "\n",
       "mpl.figure = function(figure_id, websocket, ondownload, parent_element) {\n",
       "    this.id = figure_id;\n",
       "\n",
       "    this.ws = websocket;\n",
       "\n",
       "    this.supports_binary = (this.ws.binaryType != undefined);\n",
       "\n",
       "    if (!this.supports_binary) {\n",
       "        var warnings = document.getElementById(\"mpl-warnings\");\n",
       "        if (warnings) {\n",
       "            warnings.style.display = 'block';\n",
       "            warnings.textContent = (\n",
       "                \"This browser does not support binary websocket messages. \" +\n",
       "                    \"Performance may be slow.\");\n",
       "        }\n",
       "    }\n",
       "\n",
       "    this.imageObj = new Image();\n",
       "\n",
       "    this.context = undefined;\n",
       "    this.message = undefined;\n",
       "    this.canvas = undefined;\n",
       "    this.rubberband_canvas = undefined;\n",
       "    this.rubberband_context = undefined;\n",
       "    this.format_dropdown = undefined;\n",
       "\n",
       "    this.image_mode = 'full';\n",
       "\n",
       "    this.root = $('<div/>');\n",
       "    this._root_extra_style(this.root)\n",
       "    this.root.attr('style', 'display: inline-block');\n",
       "\n",
       "    $(parent_element).append(this.root);\n",
       "\n",
       "    this._init_header(this);\n",
       "    this._init_canvas(this);\n",
       "    this._init_toolbar(this);\n",
       "\n",
       "    var fig = this;\n",
       "\n",
       "    this.waiting = false;\n",
       "\n",
       "    this.ws.onopen =  function () {\n",
       "            fig.send_message(\"supports_binary\", {value: fig.supports_binary});\n",
       "            fig.send_message(\"send_image_mode\", {});\n",
       "            if (mpl.ratio != 1) {\n",
       "                fig.send_message(\"set_dpi_ratio\", {'dpi_ratio': mpl.ratio});\n",
       "            }\n",
       "            fig.send_message(\"refresh\", {});\n",
       "        }\n",
       "\n",
       "    this.imageObj.onload = function() {\n",
       "            if (fig.image_mode == 'full') {\n",
       "                // Full images could contain transparency (where diff images\n",
       "                // almost always do), so we need to clear the canvas so that\n",
       "                // there is no ghosting.\n",
       "                fig.context.clearRect(0, 0, fig.canvas.width, fig.canvas.height);\n",
       "            }\n",
       "            fig.context.drawImage(fig.imageObj, 0, 0);\n",
       "        };\n",
       "\n",
       "    this.imageObj.onunload = function() {\n",
       "        fig.ws.close();\n",
       "    }\n",
       "\n",
       "    this.ws.onmessage = this._make_on_message_function(this);\n",
       "\n",
       "    this.ondownload = ondownload;\n",
       "}\n",
       "\n",
       "mpl.figure.prototype._init_header = function() {\n",
       "    var titlebar = $(\n",
       "        '<div class=\"ui-dialog-titlebar ui-widget-header ui-corner-all ' +\n",
       "        'ui-helper-clearfix\"/>');\n",
       "    var titletext = $(\n",
       "        '<div class=\"ui-dialog-title\" style=\"width: 100%; ' +\n",
       "        'text-align: center; padding: 3px;\"/>');\n",
       "    titlebar.append(titletext)\n",
       "    this.root.append(titlebar);\n",
       "    this.header = titletext[0];\n",
       "}\n",
       "\n",
       "\n",
       "\n",
       "mpl.figure.prototype._canvas_extra_style = function(canvas_div) {\n",
       "\n",
       "}\n",
       "\n",
       "\n",
       "mpl.figure.prototype._root_extra_style = function(canvas_div) {\n",
       "\n",
       "}\n",
       "\n",
       "mpl.figure.prototype._init_canvas = function() {\n",
       "    var fig = this;\n",
       "\n",
       "    var canvas_div = $('<div/>');\n",
       "\n",
       "    canvas_div.attr('style', 'position: relative; clear: both; outline: 0');\n",
       "\n",
       "    function canvas_keyboard_event(event) {\n",
       "        return fig.key_event(event, event['data']);\n",
       "    }\n",
       "\n",
       "    canvas_div.keydown('key_press', canvas_keyboard_event);\n",
       "    canvas_div.keyup('key_release', canvas_keyboard_event);\n",
       "    this.canvas_div = canvas_div\n",
       "    this._canvas_extra_style(canvas_div)\n",
       "    this.root.append(canvas_div);\n",
       "\n",
       "    var canvas = $('<canvas/>');\n",
       "    canvas.addClass('mpl-canvas');\n",
       "    canvas.attr('style', \"left: 0; top: 0; z-index: 0; outline: 0\")\n",
       "\n",
       "    this.canvas = canvas[0];\n",
       "    this.context = canvas[0].getContext(\"2d\");\n",
       "\n",
       "    var backingStore = this.context.backingStorePixelRatio ||\n",
       "\tthis.context.webkitBackingStorePixelRatio ||\n",
       "\tthis.context.mozBackingStorePixelRatio ||\n",
       "\tthis.context.msBackingStorePixelRatio ||\n",
       "\tthis.context.oBackingStorePixelRatio ||\n",
       "\tthis.context.backingStorePixelRatio || 1;\n",
       "\n",
       "    mpl.ratio = (window.devicePixelRatio || 1) / backingStore;\n",
       "\n",
       "    var rubberband = $('<canvas/>');\n",
       "    rubberband.attr('style', \"position: absolute; left: 0; top: 0; z-index: 1;\")\n",
       "\n",
       "    var pass_mouse_events = true;\n",
       "\n",
       "    canvas_div.resizable({\n",
       "        start: function(event, ui) {\n",
       "            pass_mouse_events = false;\n",
       "        },\n",
       "        resize: function(event, ui) {\n",
       "            fig.request_resize(ui.size.width, ui.size.height);\n",
       "        },\n",
       "        stop: function(event, ui) {\n",
       "            pass_mouse_events = true;\n",
       "            fig.request_resize(ui.size.width, ui.size.height);\n",
       "        },\n",
       "    });\n",
       "\n",
       "    function mouse_event_fn(event) {\n",
       "        if (pass_mouse_events)\n",
       "            return fig.mouse_event(event, event['data']);\n",
       "    }\n",
       "\n",
       "    rubberband.mousedown('button_press', mouse_event_fn);\n",
       "    rubberband.mouseup('button_release', mouse_event_fn);\n",
       "    // Throttle sequential mouse events to 1 every 20ms.\n",
       "    rubberband.mousemove('motion_notify', mouse_event_fn);\n",
       "\n",
       "    rubberband.mouseenter('figure_enter', mouse_event_fn);\n",
       "    rubberband.mouseleave('figure_leave', mouse_event_fn);\n",
       "\n",
       "    canvas_div.on(\"wheel\", function (event) {\n",
       "        event = event.originalEvent;\n",
       "        event['data'] = 'scroll'\n",
       "        if (event.deltaY < 0) {\n",
       "            event.step = 1;\n",
       "        } else {\n",
       "            event.step = -1;\n",
       "        }\n",
       "        mouse_event_fn(event);\n",
       "    });\n",
       "\n",
       "    canvas_div.append(canvas);\n",
       "    canvas_div.append(rubberband);\n",
       "\n",
       "    this.rubberband = rubberband;\n",
       "    this.rubberband_canvas = rubberband[0];\n",
       "    this.rubberband_context = rubberband[0].getContext(\"2d\");\n",
       "    this.rubberband_context.strokeStyle = \"#000000\";\n",
       "\n",
       "    this._resize_canvas = function(width, height) {\n",
       "        // Keep the size of the canvas, canvas container, and rubber band\n",
       "        // canvas in synch.\n",
       "        canvas_div.css('width', width)\n",
       "        canvas_div.css('height', height)\n",
       "\n",
       "        canvas.attr('width', width * mpl.ratio);\n",
       "        canvas.attr('height', height * mpl.ratio);\n",
       "        canvas.attr('style', 'width: ' + width + 'px; height: ' + height + 'px;');\n",
       "\n",
       "        rubberband.attr('width', width);\n",
       "        rubberband.attr('height', height);\n",
       "    }\n",
       "\n",
       "    // Set the figure to an initial 600x600px, this will subsequently be updated\n",
       "    // upon first draw.\n",
       "    this._resize_canvas(600, 600);\n",
       "\n",
       "    // Disable right mouse context menu.\n",
       "    $(this.rubberband_canvas).bind(\"contextmenu\",function(e){\n",
       "        return false;\n",
       "    });\n",
       "\n",
       "    function set_focus () {\n",
       "        canvas.focus();\n",
       "        canvas_div.focus();\n",
       "    }\n",
       "\n",
       "    window.setTimeout(set_focus, 100);\n",
       "}\n",
       "\n",
       "mpl.figure.prototype._init_toolbar = function() {\n",
       "    var fig = this;\n",
       "\n",
       "    var nav_element = $('<div/>')\n",
       "    nav_element.attr('style', 'width: 100%');\n",
       "    this.root.append(nav_element);\n",
       "\n",
       "    // Define a callback function for later on.\n",
       "    function toolbar_event(event) {\n",
       "        return fig.toolbar_button_onclick(event['data']);\n",
       "    }\n",
       "    function toolbar_mouse_event(event) {\n",
       "        return fig.toolbar_button_onmouseover(event['data']);\n",
       "    }\n",
       "\n",
       "    for(var toolbar_ind in mpl.toolbar_items) {\n",
       "        var name = mpl.toolbar_items[toolbar_ind][0];\n",
       "        var tooltip = mpl.toolbar_items[toolbar_ind][1];\n",
       "        var image = mpl.toolbar_items[toolbar_ind][2];\n",
       "        var method_name = mpl.toolbar_items[toolbar_ind][3];\n",
       "\n",
       "        if (!name) {\n",
       "            // put a spacer in here.\n",
       "            continue;\n",
       "        }\n",
       "        var button = $('<button/>');\n",
       "        button.addClass('ui-button ui-widget ui-state-default ui-corner-all ' +\n",
       "                        'ui-button-icon-only');\n",
       "        button.attr('role', 'button');\n",
       "        button.attr('aria-disabled', 'false');\n",
       "        button.click(method_name, toolbar_event);\n",
       "        button.mouseover(tooltip, toolbar_mouse_event);\n",
       "\n",
       "        var icon_img = $('<span/>');\n",
       "        icon_img.addClass('ui-button-icon-primary ui-icon');\n",
       "        icon_img.addClass(image);\n",
       "        icon_img.addClass('ui-corner-all');\n",
       "\n",
       "        var tooltip_span = $('<span/>');\n",
       "        tooltip_span.addClass('ui-button-text');\n",
       "        tooltip_span.html(tooltip);\n",
       "\n",
       "        button.append(icon_img);\n",
       "        button.append(tooltip_span);\n",
       "\n",
       "        nav_element.append(button);\n",
       "    }\n",
       "\n",
       "    var fmt_picker_span = $('<span/>');\n",
       "\n",
       "    var fmt_picker = $('<select/>');\n",
       "    fmt_picker.addClass('mpl-toolbar-option ui-widget ui-widget-content');\n",
       "    fmt_picker_span.append(fmt_picker);\n",
       "    nav_element.append(fmt_picker_span);\n",
       "    this.format_dropdown = fmt_picker[0];\n",
       "\n",
       "    for (var ind in mpl.extensions) {\n",
       "        var fmt = mpl.extensions[ind];\n",
       "        var option = $(\n",
       "            '<option/>', {selected: fmt === mpl.default_extension}).html(fmt);\n",
       "        fmt_picker.append(option)\n",
       "    }\n",
       "\n",
       "    // Add hover states to the ui-buttons\n",
       "    $( \".ui-button\" ).hover(\n",
       "        function() { $(this).addClass(\"ui-state-hover\");},\n",
       "        function() { $(this).removeClass(\"ui-state-hover\");}\n",
       "    );\n",
       "\n",
       "    var status_bar = $('<span class=\"mpl-message\"/>');\n",
       "    nav_element.append(status_bar);\n",
       "    this.message = status_bar[0];\n",
       "}\n",
       "\n",
       "mpl.figure.prototype.request_resize = function(x_pixels, y_pixels) {\n",
       "    // Request matplotlib to resize the figure. Matplotlib will then trigger a resize in the client,\n",
       "    // which will in turn request a refresh of the image.\n",
       "    this.send_message('resize', {'width': x_pixels, 'height': y_pixels});\n",
       "}\n",
       "\n",
       "mpl.figure.prototype.send_message = function(type, properties) {\n",
       "    properties['type'] = type;\n",
       "    properties['figure_id'] = this.id;\n",
       "    this.ws.send(JSON.stringify(properties));\n",
       "}\n",
       "\n",
       "mpl.figure.prototype.send_draw_message = function() {\n",
       "    if (!this.waiting) {\n",
       "        this.waiting = true;\n",
       "        this.ws.send(JSON.stringify({type: \"draw\", figure_id: this.id}));\n",
       "    }\n",
       "}\n",
       "\n",
       "\n",
       "mpl.figure.prototype.handle_save = function(fig, msg) {\n",
       "    var format_dropdown = fig.format_dropdown;\n",
       "    var format = format_dropdown.options[format_dropdown.selectedIndex].value;\n",
       "    fig.ondownload(fig, format);\n",
       "}\n",
       "\n",
       "\n",
       "mpl.figure.prototype.handle_resize = function(fig, msg) {\n",
       "    var size = msg['size'];\n",
       "    if (size[0] != fig.canvas.width || size[1] != fig.canvas.height) {\n",
       "        fig._resize_canvas(size[0], size[1]);\n",
       "        fig.send_message(\"refresh\", {});\n",
       "    };\n",
       "}\n",
       "\n",
       "mpl.figure.prototype.handle_rubberband = function(fig, msg) {\n",
       "    var x0 = msg['x0'] / mpl.ratio;\n",
       "    var y0 = (fig.canvas.height - msg['y0']) / mpl.ratio;\n",
       "    var x1 = msg['x1'] / mpl.ratio;\n",
       "    var y1 = (fig.canvas.height - msg['y1']) / mpl.ratio;\n",
       "    x0 = Math.floor(x0) + 0.5;\n",
       "    y0 = Math.floor(y0) + 0.5;\n",
       "    x1 = Math.floor(x1) + 0.5;\n",
       "    y1 = Math.floor(y1) + 0.5;\n",
       "    var min_x = Math.min(x0, x1);\n",
       "    var min_y = Math.min(y0, y1);\n",
       "    var width = Math.abs(x1 - x0);\n",
       "    var height = Math.abs(y1 - y0);\n",
       "\n",
       "    fig.rubberband_context.clearRect(\n",
       "        0, 0, fig.canvas.width, fig.canvas.height);\n",
       "\n",
       "    fig.rubberband_context.strokeRect(min_x, min_y, width, height);\n",
       "}\n",
       "\n",
       "mpl.figure.prototype.handle_figure_label = function(fig, msg) {\n",
       "    // Updates the figure title.\n",
       "    fig.header.textContent = msg['label'];\n",
       "}\n",
       "\n",
       "mpl.figure.prototype.handle_cursor = function(fig, msg) {\n",
       "    var cursor = msg['cursor'];\n",
       "    switch(cursor)\n",
       "    {\n",
       "    case 0:\n",
       "        cursor = 'pointer';\n",
       "        break;\n",
       "    case 1:\n",
       "        cursor = 'default';\n",
       "        break;\n",
       "    case 2:\n",
       "        cursor = 'crosshair';\n",
       "        break;\n",
       "    case 3:\n",
       "        cursor = 'move';\n",
       "        break;\n",
       "    }\n",
       "    fig.rubberband_canvas.style.cursor = cursor;\n",
       "}\n",
       "\n",
       "mpl.figure.prototype.handle_message = function(fig, msg) {\n",
       "    fig.message.textContent = msg['message'];\n",
       "}\n",
       "\n",
       "mpl.figure.prototype.handle_draw = function(fig, msg) {\n",
       "    // Request the server to send over a new figure.\n",
       "    fig.send_draw_message();\n",
       "}\n",
       "\n",
       "mpl.figure.prototype.handle_image_mode = function(fig, msg) {\n",
       "    fig.image_mode = msg['mode'];\n",
       "}\n",
       "\n",
       "mpl.figure.prototype.updated_canvas_event = function() {\n",
       "    // Called whenever the canvas gets updated.\n",
       "    this.send_message(\"ack\", {});\n",
       "}\n",
       "\n",
       "// A function to construct a web socket function for onmessage handling.\n",
       "// Called in the figure constructor.\n",
       "mpl.figure.prototype._make_on_message_function = function(fig) {\n",
       "    return function socket_on_message(evt) {\n",
       "        if (evt.data instanceof Blob) {\n",
       "            /* FIXME: We get \"Resource interpreted as Image but\n",
       "             * transferred with MIME type text/plain:\" errors on\n",
       "             * Chrome.  But how to set the MIME type?  It doesn't seem\n",
       "             * to be part of the websocket stream */\n",
       "            evt.data.type = \"image/png\";\n",
       "\n",
       "            /* Free the memory for the previous frames */\n",
       "            if (fig.imageObj.src) {\n",
       "                (window.URL || window.webkitURL).revokeObjectURL(\n",
       "                    fig.imageObj.src);\n",
       "            }\n",
       "\n",
       "            fig.imageObj.src = (window.URL || window.webkitURL).createObjectURL(\n",
       "                evt.data);\n",
       "            fig.updated_canvas_event();\n",
       "            fig.waiting = false;\n",
       "            return;\n",
       "        }\n",
       "        else if (typeof evt.data === 'string' && evt.data.slice(0, 21) == \"data:image/png;base64\") {\n",
       "            fig.imageObj.src = evt.data;\n",
       "            fig.updated_canvas_event();\n",
       "            fig.waiting = false;\n",
       "            return;\n",
       "        }\n",
       "\n",
       "        var msg = JSON.parse(evt.data);\n",
       "        var msg_type = msg['type'];\n",
       "\n",
       "        // Call the  \"handle_{type}\" callback, which takes\n",
       "        // the figure and JSON message as its only arguments.\n",
       "        try {\n",
       "            var callback = fig[\"handle_\" + msg_type];\n",
       "        } catch (e) {\n",
       "            console.log(\"No handler for the '\" + msg_type + \"' message type: \", msg);\n",
       "            return;\n",
       "        }\n",
       "\n",
       "        if (callback) {\n",
       "            try {\n",
       "                // console.log(\"Handling '\" + msg_type + \"' message: \", msg);\n",
       "                callback(fig, msg);\n",
       "            } catch (e) {\n",
       "                console.log(\"Exception inside the 'handler_\" + msg_type + \"' callback:\", e, e.stack, msg);\n",
       "            }\n",
       "        }\n",
       "    };\n",
       "}\n",
       "\n",
       "// from http://stackoverflow.com/questions/1114465/getting-mouse-location-in-canvas\n",
       "mpl.findpos = function(e) {\n",
       "    //this section is from http://www.quirksmode.org/js/events_properties.html\n",
       "    var targ;\n",
       "    if (!e)\n",
       "        e = window.event;\n",
       "    if (e.target)\n",
       "        targ = e.target;\n",
       "    else if (e.srcElement)\n",
       "        targ = e.srcElement;\n",
       "    if (targ.nodeType == 3) // defeat Safari bug\n",
       "        targ = targ.parentNode;\n",
       "\n",
       "    // jQuery normalizes the pageX and pageY\n",
       "    // pageX,Y are the mouse positions relative to the document\n",
       "    // offset() returns the position of the element relative to the document\n",
       "    var x = e.pageX - $(targ).offset().left;\n",
       "    var y = e.pageY - $(targ).offset().top;\n",
       "\n",
       "    return {\"x\": x, \"y\": y};\n",
       "};\n",
       "\n",
       "/*\n",
       " * return a copy of an object with only non-object keys\n",
       " * we need this to avoid circular references\n",
       " * http://stackoverflow.com/a/24161582/3208463\n",
       " */\n",
       "function simpleKeys (original) {\n",
       "  return Object.keys(original).reduce(function (obj, key) {\n",
       "    if (typeof original[key] !== 'object')\n",
       "        obj[key] = original[key]\n",
       "    return obj;\n",
       "  }, {});\n",
       "}\n",
       "\n",
       "mpl.figure.prototype.mouse_event = function(event, name) {\n",
       "    var canvas_pos = mpl.findpos(event)\n",
       "\n",
       "    if (name === 'button_press')\n",
       "    {\n",
       "        this.canvas.focus();\n",
       "        this.canvas_div.focus();\n",
       "    }\n",
       "\n",
       "    var x = canvas_pos.x * mpl.ratio;\n",
       "    var y = canvas_pos.y * mpl.ratio;\n",
       "\n",
       "    this.send_message(name, {x: x, y: y, button: event.button,\n",
       "                             step: event.step,\n",
       "                             guiEvent: simpleKeys(event)});\n",
       "\n",
       "    /* This prevents the web browser from automatically changing to\n",
       "     * the text insertion cursor when the button is pressed.  We want\n",
       "     * to control all of the cursor setting manually through the\n",
       "     * 'cursor' event from matplotlib */\n",
       "    event.preventDefault();\n",
       "    return false;\n",
       "}\n",
       "\n",
       "mpl.figure.prototype._key_event_extra = function(event, name) {\n",
       "    // Handle any extra behaviour associated with a key event\n",
       "}\n",
       "\n",
       "mpl.figure.prototype.key_event = function(event, name) {\n",
       "\n",
       "    // Prevent repeat events\n",
       "    if (name == 'key_press')\n",
       "    {\n",
       "        if (event.which === this._key)\n",
       "            return;\n",
       "        else\n",
       "            this._key = event.which;\n",
       "    }\n",
       "    if (name == 'key_release')\n",
       "        this._key = null;\n",
       "\n",
       "    var value = '';\n",
       "    if (event.ctrlKey && event.which != 17)\n",
       "        value += \"ctrl+\";\n",
       "    if (event.altKey && event.which != 18)\n",
       "        value += \"alt+\";\n",
       "    if (event.shiftKey && event.which != 16)\n",
       "        value += \"shift+\";\n",
       "\n",
       "    value += 'k';\n",
       "    value += event.which.toString();\n",
       "\n",
       "    this._key_event_extra(event, name);\n",
       "\n",
       "    this.send_message(name, {key: value,\n",
       "                             guiEvent: simpleKeys(event)});\n",
       "    return false;\n",
       "}\n",
       "\n",
       "mpl.figure.prototype.toolbar_button_onclick = function(name) {\n",
       "    if (name == 'download') {\n",
       "        this.handle_save(this, null);\n",
       "    } else {\n",
       "        this.send_message(\"toolbar_button\", {name: name});\n",
       "    }\n",
       "};\n",
       "\n",
       "mpl.figure.prototype.toolbar_button_onmouseover = function(tooltip) {\n",
       "    this.message.textContent = tooltip;\n",
       "};\n",
       "mpl.toolbar_items = [[\"Home\", \"Reset original view\", \"fa fa-home icon-home\", \"home\"], [\"Back\", \"Back to  previous view\", \"fa fa-arrow-left icon-arrow-left\", \"back\"], [\"Forward\", \"Forward to next view\", \"fa fa-arrow-right icon-arrow-right\", \"forward\"], [\"\", \"\", \"\", \"\"], [\"Pan\", \"Pan axes with left mouse, zoom with right\", \"fa fa-arrows icon-move\", \"pan\"], [\"Zoom\", \"Zoom to rectangle\", \"fa fa-square-o icon-check-empty\", \"zoom\"], [\"\", \"\", \"\", \"\"], [\"Download\", \"Download plot\", \"fa fa-floppy-o icon-save\", \"download\"]];\n",
       "\n",
       "mpl.extensions = [\"eps\", \"jpeg\", \"pdf\", \"png\", \"ps\", \"raw\", \"svg\", \"tif\"];\n",
       "\n",
       "mpl.default_extension = \"png\";var comm_websocket_adapter = function(comm) {\n",
       "    // Create a \"websocket\"-like object which calls the given IPython comm\n",
       "    // object with the appropriate methods. Currently this is a non binary\n",
       "    // socket, so there is still some room for performance tuning.\n",
       "    var ws = {};\n",
       "\n",
       "    ws.close = function() {\n",
       "        comm.close()\n",
       "    };\n",
       "    ws.send = function(m) {\n",
       "        //console.log('sending', m);\n",
       "        comm.send(m);\n",
       "    };\n",
       "    // Register the callback with on_msg.\n",
       "    comm.on_msg(function(msg) {\n",
       "        //console.log('receiving', msg['content']['data'], msg);\n",
       "        // Pass the mpl event to the overriden (by mpl) onmessage function.\n",
       "        ws.onmessage(msg['content']['data'])\n",
       "    });\n",
       "    return ws;\n",
       "}\n",
       "\n",
       "mpl.mpl_figure_comm = function(comm, msg) {\n",
       "    // This is the function which gets called when the mpl process\n",
       "    // starts-up an IPython Comm through the \"matplotlib\" channel.\n",
       "\n",
       "    var id = msg.content.data.id;\n",
       "    // Get hold of the div created by the display call when the Comm\n",
       "    // socket was opened in Python.\n",
       "    var element = $(\"#\" + id);\n",
       "    var ws_proxy = comm_websocket_adapter(comm)\n",
       "\n",
       "    function ondownload(figure, format) {\n",
       "        window.open(figure.imageObj.src);\n",
       "    }\n",
       "\n",
       "    var fig = new mpl.figure(id, ws_proxy,\n",
       "                           ondownload,\n",
       "                           element.get(0));\n",
       "\n",
       "    // Call onopen now - mpl needs it, as it is assuming we've passed it a real\n",
       "    // web socket which is closed, not our websocket->open comm proxy.\n",
       "    ws_proxy.onopen();\n",
       "\n",
       "    fig.parent_element = element.get(0);\n",
       "    fig.cell_info = mpl.find_output_cell(\"<div id='\" + id + \"'></div>\");\n",
       "    if (!fig.cell_info) {\n",
       "        console.error(\"Failed to find cell for figure\", id, fig);\n",
       "        return;\n",
       "    }\n",
       "\n",
       "    var output_index = fig.cell_info[2]\n",
       "    var cell = fig.cell_info[0];\n",
       "\n",
       "};\n",
       "\n",
       "mpl.figure.prototype.handle_close = function(fig, msg) {\n",
       "    var width = fig.canvas.width/mpl.ratio\n",
       "    fig.root.unbind('remove')\n",
       "\n",
       "    // Update the output cell to use the data from the current canvas.\n",
       "    fig.push_to_output();\n",
       "    var dataURL = fig.canvas.toDataURL();\n",
       "    // Re-enable the keyboard manager in IPython - without this line, in FF,\n",
       "    // the notebook keyboard shortcuts fail.\n",
       "    IPython.keyboard_manager.enable()\n",
       "    $(fig.parent_element).html('<img src=\"' + dataURL + '\" width=\"' + width + '\">');\n",
       "    fig.close_ws(fig, msg);\n",
       "}\n",
       "\n",
       "mpl.figure.prototype.close_ws = function(fig, msg){\n",
       "    fig.send_message('closing', msg);\n",
       "    // fig.ws.close()\n",
       "}\n",
       "\n",
       "mpl.figure.prototype.push_to_output = function(remove_interactive) {\n",
       "    // Turn the data on the canvas into data in the output cell.\n",
       "    var width = this.canvas.width/mpl.ratio\n",
       "    var dataURL = this.canvas.toDataURL();\n",
       "    this.cell_info[1]['text/html'] = '<img src=\"' + dataURL + '\" width=\"' + width + '\">';\n",
       "}\n",
       "\n",
       "mpl.figure.prototype.updated_canvas_event = function() {\n",
       "    // Tell IPython that the notebook contents must change.\n",
       "    IPython.notebook.set_dirty(true);\n",
       "    this.send_message(\"ack\", {});\n",
       "    var fig = this;\n",
       "    // Wait a second, then push the new image to the DOM so\n",
       "    // that it is saved nicely (might be nice to debounce this).\n",
       "    setTimeout(function () { fig.push_to_output() }, 1000);\n",
       "}\n",
       "\n",
       "mpl.figure.prototype._init_toolbar = function() {\n",
       "    var fig = this;\n",
       "\n",
       "    var nav_element = $('<div/>')\n",
       "    nav_element.attr('style', 'width: 100%');\n",
       "    this.root.append(nav_element);\n",
       "\n",
       "    // Define a callback function for later on.\n",
       "    function toolbar_event(event) {\n",
       "        return fig.toolbar_button_onclick(event['data']);\n",
       "    }\n",
       "    function toolbar_mouse_event(event) {\n",
       "        return fig.toolbar_button_onmouseover(event['data']);\n",
       "    }\n",
       "\n",
       "    for(var toolbar_ind in mpl.toolbar_items){\n",
       "        var name = mpl.toolbar_items[toolbar_ind][0];\n",
       "        var tooltip = mpl.toolbar_items[toolbar_ind][1];\n",
       "        var image = mpl.toolbar_items[toolbar_ind][2];\n",
       "        var method_name = mpl.toolbar_items[toolbar_ind][3];\n",
       "\n",
       "        if (!name) { continue; };\n",
       "\n",
       "        var button = $('<button class=\"btn btn-default\" href=\"#\" title=\"' + name + '\"><i class=\"fa ' + image + ' fa-lg\"></i></button>');\n",
       "        button.click(method_name, toolbar_event);\n",
       "        button.mouseover(tooltip, toolbar_mouse_event);\n",
       "        nav_element.append(button);\n",
       "    }\n",
       "\n",
       "    // Add the status bar.\n",
       "    var status_bar = $('<span class=\"mpl-message\" style=\"text-align:right; float: right;\"/>');\n",
       "    nav_element.append(status_bar);\n",
       "    this.message = status_bar[0];\n",
       "\n",
       "    // Add the close button to the window.\n",
       "    var buttongrp = $('<div class=\"btn-group inline pull-right\"></div>');\n",
       "    var button = $('<button class=\"btn btn-mini btn-primary\" href=\"#\" title=\"Stop Interaction\"><i class=\"fa fa-power-off icon-remove icon-large\"></i></button>');\n",
       "    button.click(function (evt) { fig.handle_close(fig, {}); } );\n",
       "    button.mouseover('Stop Interaction', toolbar_mouse_event);\n",
       "    buttongrp.append(button);\n",
       "    var titlebar = this.root.find($('.ui-dialog-titlebar'));\n",
       "    titlebar.prepend(buttongrp);\n",
       "}\n",
       "\n",
       "mpl.figure.prototype._root_extra_style = function(el){\n",
       "    var fig = this\n",
       "    el.on(\"remove\", function(){\n",
       "\tfig.close_ws(fig, {});\n",
       "    });\n",
       "}\n",
       "\n",
       "mpl.figure.prototype._canvas_extra_style = function(el){\n",
       "    // this is important to make the div 'focusable\n",
       "    el.attr('tabindex', 0)\n",
       "    // reach out to IPython and tell the keyboard manager to turn it's self\n",
       "    // off when our div gets focus\n",
       "\n",
       "    // location in version 3\n",
       "    if (IPython.notebook.keyboard_manager) {\n",
       "        IPython.notebook.keyboard_manager.register_events(el);\n",
       "    }\n",
       "    else {\n",
       "        // location in version 2\n",
       "        IPython.keyboard_manager.register_events(el);\n",
       "    }\n",
       "\n",
       "}\n",
       "\n",
       "mpl.figure.prototype._key_event_extra = function(event, name) {\n",
       "    var manager = IPython.notebook.keyboard_manager;\n",
       "    if (!manager)\n",
       "        manager = IPython.keyboard_manager;\n",
       "\n",
       "    // Check for shift+enter\n",
       "    if (event.shiftKey && event.which == 13) {\n",
       "        this.canvas_div.blur();\n",
       "        event.shiftKey = false;\n",
       "        // Send a \"J\" for go to next cell\n",
       "        event.which = 74;\n",
       "        event.keyCode = 74;\n",
       "        manager.command_mode();\n",
       "        manager.handle_keydown(event);\n",
       "    }\n",
       "}\n",
       "\n",
       "mpl.figure.prototype.handle_save = function(fig, msg) {\n",
       "    fig.ondownload(fig, null);\n",
       "}\n",
       "\n",
       "\n",
       "mpl.find_output_cell = function(html_output) {\n",
       "    // Return the cell and output element which can be found *uniquely* in the notebook.\n",
       "    // Note - this is a bit hacky, but it is done because the \"notebook_saving.Notebook\"\n",
       "    // IPython event is triggered only after the cells have been serialised, which for\n",
       "    // our purposes (turning an active figure into a static one), is too late.\n",
       "    var cells = IPython.notebook.get_cells();\n",
       "    var ncells = cells.length;\n",
       "    for (var i=0; i<ncells; i++) {\n",
       "        var cell = cells[i];\n",
       "        if (cell.cell_type === 'code'){\n",
       "            for (var j=0; j<cell.output_area.outputs.length; j++) {\n",
       "                var data = cell.output_area.outputs[j];\n",
       "                if (data.data) {\n",
       "                    // IPython >= 3 moved mimebundle to data attribute of output\n",
       "                    data = data.data;\n",
       "                }\n",
       "                if (data['text/html'] == html_output) {\n",
       "                    return [cell, data, j];\n",
       "                }\n",
       "            }\n",
       "        }\n",
       "    }\n",
       "}\n",
       "\n",
       "// Register the function which deals with the matplotlib target/channel.\n",
       "// The kernel may be null if the page has been refreshed.\n",
       "if (IPython.notebook.kernel != null) {\n",
       "    IPython.notebook.kernel.comm_manager.register_target('matplotlib', mpl.mpl_figure_comm);\n",
       "}\n"
      ],
      "text/plain": [
       "<IPython.core.display.Javascript object>"
      ]
     },
     "metadata": {},
     "output_type": "display_data"
    },
    {
     "data": {
      "text/html": [
       "<img src=\"data:image/png;base64,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\" width=\"640\">"
      ],
      "text/plain": [
       "<IPython.core.display.HTML object>"
      ]
     },
     "metadata": {},
     "output_type": "display_data"
    },
    {
     "name": "stderr",
     "output_type": "stream",
     "text": [
      "C:\\Users\\Clover\\Anaconda3\\lib\\site-packages\\matplotlib\\cbook\\deprecation.py:106: MatplotlibDeprecationWarning: Adding an axes using the same arguments as a previous axes currently reuses the earlier instance.  In a future version, a new instance will always be created and returned.  Meanwhile, this warning can be suppressed, and the future behavior ensured, by passing a unique label to each axes instance.\n",
      "  warnings.warn(message, mplDeprecation, stacklevel=1)\n"
     ]
    }
   ],
   "source": [
    "from sklearn.metrics import precision_recall_curve\n",
    "\n",
    "precision, recall, thresholds = precision_recall_curve(y_test, y_scores_lr)\n",
    "closest_zero = np.argmin(np.abs(thresholds))\n",
    "closest_zero_p = precision[closest_zero]\n",
    "closest_zero_r = recall[closest_zero]\n",
    "\n",
    "plt.figure()\n",
    "plt.xlim([0.0, 1.01])\n",
    "plt.ylim([0.0, 1.01])\n",
    "plt.plot(precision, recall, label='Precision-Recall Curve')\n",
    "plt.plot(closest_zero_p, closest_zero_r, 'o', markersize = 12, fillstyle = 'none', c='r', mew=3)\n",
    "plt.xlabel('Precision', fontsize=16)\n",
    "plt.ylabel('Recall', fontsize=16)\n",
    "plt.axes().set_aspect('equal')\n",
    "plt.show()"
   ]
  },
  {
   "cell_type": "markdown",
   "metadata": {},
   "source": [
    "### ROC curves, Area-Under-Curve (AUC)"
   ]
  },
  {
   "cell_type": "code",
   "execution_count": null,
   "metadata": {},
   "outputs": [],
   "source": [
    "from sklearn.metrics import roc_curve, auc\n",
    "\n",
    "X_train, X_test, y_train, y_test = train_test_split(X, y_binary_imbalanced, random_state=0)\n",
    "\n",
    "y_score_lr = lr.fit(X_train, y_train).decision_function(X_test)\n",
    "fpr_lr, tpr_lr, _ = roc_curve(y_test, y_score_lr)\n",
    "roc_auc_lr = auc(fpr_lr, tpr_lr)\n",
    "\n",
    "plt.figure()\n",
    "plt.xlim([-0.01, 1.00])\n",
    "plt.ylim([-0.01, 1.01])\n",
    "plt.plot(fpr_lr, tpr_lr, lw=3, label='LogRegr ROC curve (area = {:0.2f})'.format(roc_auc_lr))\n",
    "plt.xlabel('False Positive Rate', fontsize=16)\n",
    "plt.ylabel('True Positive Rate', fontsize=16)\n",
    "plt.title('ROC curve (1-of-10 digits classifier)', fontsize=16)\n",
    "plt.legend(loc='lower right', fontsize=13)\n",
    "plt.plot([0, 1], [0, 1], color='navy', lw=3, linestyle='--')\n",
    "plt.axes().set_aspect('equal')\n",
    "plt.show()"
   ]
  },
  {
   "cell_type": "code",
   "execution_count": null,
   "metadata": {
    "scrolled": false
   },
   "outputs": [],
   "source": [
    "from matplotlib import cm\n",
    "\n",
    "X_train, X_test, y_train, y_test = train_test_split(X, y_binary_imbalanced, random_state=0)\n",
    "\n",
    "plt.figure()\n",
    "plt.xlim([-0.01, 1.00])\n",
    "plt.ylim([-0.01, 1.01])\n",
    "for g in [0.01, 0.1, 0.20, 1]:\n",
    "    svm = SVC(gamma=g).fit(X_train, y_train)\n",
    "    y_score_svm = svm.decision_function(X_test)\n",
    "    fpr_svm, tpr_svm, _ = roc_curve(y_test, y_score_svm)\n",
    "    roc_auc_svm = auc(fpr_svm, tpr_svm)\n",
    "    accuracy_svm = svm.score(X_test, y_test)\n",
    "    print(\"gamma = {:.2f}  accuracy = {:.2f}   AUC = {:.2f}\".format(g, accuracy_svm, \n",
    "                                                                    roc_auc_svm))\n",
    "    plt.plot(fpr_svm, tpr_svm, lw=3, alpha=0.7, \n",
    "             label='SVM (gamma = {:0.2f}, area = {:0.2f})'.format(g, roc_auc_svm))\n",
    "\n",
    "plt.xlabel('False Positive Rate', fontsize=16)\n",
    "plt.ylabel('True Positive Rate (Recall)', fontsize=16)\n",
    "plt.plot([0, 1], [0, 1], color='k', lw=0.5, linestyle='--')\n",
    "plt.legend(loc=\"lower right\", fontsize=11)\n",
    "plt.title('ROC curve: (1-of-10 digits classifier)', fontsize=16)\n",
    "plt.axes().set_aspect('equal')\n",
    "\n",
    "plt.show()"
   ]
  },
  {
   "cell_type": "markdown",
   "metadata": {},
   "source": [
    "### Evaluation measures for multi-class classification"
   ]
  },
  {
   "cell_type": "markdown",
   "metadata": {},
   "source": [
    "#### Multi-class confusion matrix"
   ]
  },
  {
   "cell_type": "code",
   "execution_count": null,
   "metadata": {
    "scrolled": false
   },
   "outputs": [],
   "source": [
    "dataset = load_digits()\n",
    "X, y = dataset.data, dataset.target\n",
    "X_train_mc, X_test_mc, y_train_mc, y_test_mc = train_test_split(X, y, random_state=0)\n",
    "\n",
    "\n",
    "svm = SVC(kernel = 'linear').fit(X_train_mc, y_train_mc)\n",
    "svm_predicted_mc = svm.predict(X_test_mc)\n",
    "confusion_mc = confusion_matrix(y_test_mc, svm_predicted_mc)\n",
    "df_cm = pd.DataFrame(confusion_mc, \n",
    "                     index = [i for i in range(0,10)], columns = [i for i in range(0,10)])\n",
    "\n",
    "plt.figure(figsize=(5.5,4))\n",
    "sns.heatmap(df_cm, annot=True)\n",
    "plt.title('SVM Linear Kernel \\nAccuracy:{0:.3f}'.format(accuracy_score(y_test_mc, \n",
    "                                                                       svm_predicted_mc)))\n",
    "plt.ylabel('True label')\n",
    "plt.xlabel('Predicted label')\n",
    "\n",
    "\n",
    "svm = SVC(kernel = 'rbf').fit(X_train_mc, y_train_mc)\n",
    "svm_predicted_mc = svm.predict(X_test_mc)\n",
    "confusion_mc = confusion_matrix(y_test_mc, svm_predicted_mc)\n",
    "df_cm = pd.DataFrame(confusion_mc, index = [i for i in range(0,10)],\n",
    "                  columns = [i for i in range(0,10)])\n",
    "\n",
    "plt.figure(figsize = (5.5,4))\n",
    "sns.heatmap(df_cm, annot=True)\n",
    "plt.title('SVM RBF Kernel \\nAccuracy:{0:.3f}'.format(accuracy_score(y_test_mc, \n",
    "                                                                    svm_predicted_mc)))\n",
    "plt.ylabel('True label')\n",
    "plt.xlabel('Predicted label');"
   ]
  },
  {
   "cell_type": "markdown",
   "metadata": {},
   "source": [
    "#### Multi-class classification report"
   ]
  },
  {
   "cell_type": "code",
   "execution_count": null,
   "metadata": {},
   "outputs": [],
   "source": [
    "print(classification_report(y_test_mc, svm_predicted_mc))"
   ]
  },
  {
   "cell_type": "markdown",
   "metadata": {},
   "source": [
    "#### Micro- vs. macro-averaged metrics"
   ]
  },
  {
   "cell_type": "code",
   "execution_count": null,
   "metadata": {},
   "outputs": [],
   "source": [
    "print('Micro-averaged precision = {:.2f} (treat instances equally)'\n",
    "      .format(precision_score(y_test_mc, svm_predicted_mc, average = 'micro')))\n",
    "print('Macro-averaged precision = {:.2f} (treat classes equally)'\n",
    "      .format(precision_score(y_test_mc, svm_predicted_mc, average = 'macro')))"
   ]
  },
  {
   "cell_type": "code",
   "execution_count": null,
   "metadata": {},
   "outputs": [],
   "source": [
    "print('Micro-averaged f1 = {:.2f} (treat instances equally)'\n",
    "      .format(f1_score(y_test_mc, svm_predicted_mc, average = 'micro')))\n",
    "print('Macro-averaged f1 = {:.2f} (treat classes equally)'\n",
    "      .format(f1_score(y_test_mc, svm_predicted_mc, average = 'macro')))"
   ]
  },
  {
   "cell_type": "markdown",
   "metadata": {},
   "source": [
    "### Regression evaluation metrics"
   ]
  },
  {
   "cell_type": "code",
   "execution_count": null,
   "metadata": {},
   "outputs": [],
   "source": [
    "%matplotlib notebook\n",
    "import matplotlib.pyplot as plt\n",
    "import numpy as np\n",
    "from sklearn.model_selection import train_test_split\n",
    "from sklearn import datasets\n",
    "from sklearn.linear_model import LinearRegression\n",
    "from sklearn.metrics import mean_squared_error, r2_score\n",
    "from sklearn.dummy import DummyRegressor\n",
    "\n",
    "diabetes = datasets.load_diabetes()\n",
    "\n",
    "X = diabetes.data[:, None, 6]\n",
    "y = diabetes.target\n",
    "\n",
    "X_train, X_test, y_train, y_test = train_test_split(X, y, random_state=0)\n",
    "\n",
    "lm = LinearRegression().fit(X_train, y_train)\n",
    "lm_dummy_mean = DummyRegressor(strategy = 'mean').fit(X_train, y_train)\n",
    "\n",
    "y_predict = lm.predict(X_test)\n",
    "y_predict_dummy_mean = lm_dummy_mean.predict(X_test)\n",
    "\n",
    "print('Linear model, coefficients: ', lm.coef_)\n",
    "print(\"Mean squared error (dummy): {:.2f}\".format(mean_squared_error(y_test, \n",
    "                                                                     y_predict_dummy_mean)))\n",
    "print(\"Mean squared error (linear model): {:.2f}\".format(mean_squared_error(y_test, y_predict)))\n",
    "print(\"r2_score (dummy): {:.2f}\".format(r2_score(y_test, y_predict_dummy_mean)))\n",
    "print(\"r2_score (linear model): {:.2f}\".format(r2_score(y_test, y_predict)))\n",
    "\n",
    "# Plot outputs\n",
    "plt.scatter(X_test, y_test,  color='black')\n",
    "plt.plot(X_test, y_predict, color='green', linewidth=2)\n",
    "plt.plot(X_test, y_predict_dummy_mean, color='red', linestyle = 'dashed', \n",
    "         linewidth=2, label = 'dummy')\n",
    "\n",
    "plt.show()"
   ]
  },
  {
   "cell_type": "markdown",
   "metadata": {},
   "source": [
    "### Model selection using evaluation metrics"
   ]
  },
  {
   "cell_type": "markdown",
   "metadata": {},
   "source": [
    "#### Cross-validation example"
   ]
  },
  {
   "cell_type": "code",
   "execution_count": null,
   "metadata": {},
   "outputs": [],
   "source": [
    "from sklearn.model_selection import cross_val_score\n",
    "from sklearn.svm import SVC\n",
    "\n",
    "dataset = load_digits()\n",
    "# again, making this a binary problem with 'digit 1' as positive class \n",
    "# and 'not 1' as negative class\n",
    "X, y = dataset.data, dataset.target == 1\n",
    "clf = SVC(kernel='linear', C=1)\n",
    "\n",
    "# accuracy is the default scoring metric\n",
    "print('Cross-validation (accuracy)', cross_val_score(clf, X, y, cv=5))\n",
    "# use AUC as scoring metric\n",
    "print('Cross-validation (AUC)', cross_val_score(clf, X, y, cv=5, scoring = 'roc_auc'))\n",
    "# use recall as scoring metric\n",
    "print('Cross-validation (recall)', cross_val_score(clf, X, y, cv=5, scoring = 'recall'))"
   ]
  },
  {
   "cell_type": "markdown",
   "metadata": {},
   "source": [
    "#### Grid search example"
   ]
  },
  {
   "cell_type": "code",
   "execution_count": null,
   "metadata": {},
   "outputs": [],
   "source": [
    "from sklearn.svm import SVC\n",
    "from sklearn.model_selection import GridSearchCV\n",
    "from sklearn.metrics import roc_auc_score\n",
    "\n",
    "dataset = load_digits()\n",
    "X, y = dataset.data, dataset.target == 1\n",
    "X_train, X_test, y_train, y_test = train_test_split(X, y, random_state=0)\n",
    "\n",
    "clf = SVC(kernel='rbf')\n",
    "grid_values = {'gamma': [0.001, 0.01, 0.05, 0.1, 1, 10, 100]}\n",
    "\n",
    "# default metric to optimize over grid parameters: accuracy\n",
    "grid_clf_acc = GridSearchCV(clf, param_grid = grid_values)\n",
    "grid_clf_acc.fit(X_train, y_train)\n",
    "y_decision_fn_scores_acc = grid_clf_acc.decision_function(X_test) \n",
    "\n",
    "print('Grid best parameter (max. accuracy): ', grid_clf_acc.best_params_)\n",
    "print('Grid best score (accuracy): ', grid_clf_acc.best_score_)\n",
    "\n",
    "# alternative metric to optimize over grid parameters: AUC\n",
    "grid_clf_auc = GridSearchCV(clf, param_grid = grid_values, scoring = 'roc_auc')\n",
    "grid_clf_auc.fit(X_train, y_train)\n",
    "y_decision_fn_scores_auc = grid_clf_auc.decision_function(X_test) \n",
    "\n",
    "print('Test set AUC: ', roc_auc_score(y_test, y_decision_fn_scores_auc))\n",
    "print('Grid best parameter (max. AUC): ', grid_clf_auc.best_params_)\n",
    "print('Grid best score (AUC): ', grid_clf_auc.best_score_)\n"
   ]
  },
  {
   "cell_type": "markdown",
   "metadata": {},
   "source": [
    "#### Evaluation metrics supported for model selection"
   ]
  },
  {
   "cell_type": "code",
   "execution_count": null,
   "metadata": {},
   "outputs": [],
   "source": [
    "from sklearn.metrics.scorer import SCORERS\n",
    "\n",
    "print(sorted(list(SCORERS.keys())))"
   ]
  },
  {
   "cell_type": "markdown",
   "metadata": {},
   "source": [
    "### Two-feature classification example using the digits dataset"
   ]
  },
  {
   "cell_type": "markdown",
   "metadata": {},
   "source": [
    "#### Optimizing a classifier using different evaluation metrics"
   ]
  },
  {
   "cell_type": "code",
   "execution_count": null,
   "metadata": {
    "scrolled": false
   },
   "outputs": [],
   "source": [
    "from sklearn.datasets import load_digits\n",
    "from sklearn.model_selection import train_test_split\n",
    "from adspy_shared_utilities import plot_class_regions_for_classifier_subplot\n",
    "from sklearn.svm import SVC\n",
    "from sklearn.model_selection import GridSearchCV\n",
    "\n",
    "\n",
    "dataset = load_digits()\n",
    "X, y = dataset.data, dataset.target == 1\n",
    "X_train, X_test, y_train, y_test = train_test_split(X, y, random_state=0)\n",
    "\n",
    "# Create a two-feature input vector matching the example plot above\n",
    "# We jitter the points (add a small amount of random noise) in case there are areas\n",
    "# in feature space where many instances have the same features.\n",
    "jitter_delta = 0.25\n",
    "X_twovar_train = X_train[:,[20,59]]+ np.random.rand(X_train.shape[0], 2) - jitter_delta\n",
    "X_twovar_test  = X_test[:,[20,59]] + np.random.rand(X_test.shape[0], 2) - jitter_delta\n",
    "\n",
    "clf = SVC(kernel = 'linear').fit(X_twovar_train, y_train)\n",
    "grid_values = {'class_weight':['balanced', {1:2},{1:3},{1:4},{1:5},{1:10},{1:20},{1:50}]}\n",
    "plt.figure(figsize=(9,6))\n",
    "for i, eval_metric in enumerate(('precision','recall', 'f1','roc_auc')):\n",
    "    grid_clf_custom = GridSearchCV(clf, param_grid=grid_values, scoring=eval_metric)\n",
    "    grid_clf_custom.fit(X_twovar_train, y_train)\n",
    "    print('Grid best parameter (max. {0}): {1}'\n",
    "          .format(eval_metric, grid_clf_custom.best_params_))\n",
    "    print('Grid best score ({0}): {1}'\n",
    "          .format(eval_metric, grid_clf_custom.best_score_))\n",
    "    plt.subplots_adjust(wspace=0.3, hspace=0.3)\n",
    "    plot_class_regions_for_classifier_subplot(grid_clf_custom, X_twovar_test, y_test, None,\n",
    "                                             None, None,  plt.subplot(2, 2, i+1))\n",
    "    \n",
    "    plt.title(eval_metric+'-oriented SVC')\n",
    "plt.tight_layout()\n",
    "plt.show()"
   ]
  },
  {
   "cell_type": "markdown",
   "metadata": {},
   "source": [
    "#### Precision-recall curve for the default SVC classifier (with balanced class weights)"
   ]
  },
  {
   "cell_type": "code",
   "execution_count": null,
   "metadata": {
    "scrolled": false
   },
   "outputs": [],
   "source": [
    "from sklearn.model_selection import train_test_split\n",
    "from sklearn.metrics import precision_recall_curve\n",
    "from adspy_shared_utilities import plot_class_regions_for_classifier\n",
    "from sklearn.svm import SVC\n",
    "\n",
    "dataset = load_digits()\n",
    "X, y = dataset.data, dataset.target == 1\n",
    "X_train, X_test, y_train, y_test = train_test_split(X, y, random_state=0)\n",
    "\n",
    "# create a two-feature input vector matching the example plot above\n",
    "jitter_delta = 0.25\n",
    "X_twovar_train = X_train[:,[20,59]]+ np.random.rand(X_train.shape[0], 2) - jitter_delta\n",
    "X_twovar_test  = X_test[:,[20,59]] + np.random.rand(X_test.shape[0], 2) - jitter_delta\n",
    "\n",
    "clf = SVC(kernel='linear', class_weight='balanced').fit(X_twovar_train, y_train)\n",
    "\n",
    "y_scores = clf.decision_function(X_twovar_test)\n",
    "\n",
    "precision, recall, thresholds = precision_recall_curve(y_test, y_scores)\n",
    "closest_zero = np.argmin(np.abs(thresholds))\n",
    "closest_zero_p = precision[closest_zero]\n",
    "closest_zero_r = recall[closest_zero]\n",
    "\n",
    "plot_class_regions_for_classifier(clf, X_twovar_test, y_test)\n",
    "plt.title(\"SVC, class_weight = 'balanced', optimized for accuracy\")\n",
    "plt.show()\n",
    "\n",
    "plt.figure()\n",
    "plt.xlim([0.0, 1.01])\n",
    "plt.ylim([0.0, 1.01])\n",
    "plt.title (\"Precision-recall curve: SVC, class_weight = 'balanced'\")\n",
    "plt.plot(precision, recall, label = 'Precision-Recall Curve')\n",
    "plt.plot(closest_zero_p, closest_zero_r, 'o', markersize=12, fillstyle='none', c='r', mew=3)\n",
    "plt.xlabel('Precision', fontsize=16)\n",
    "plt.ylabel('Recall', fontsize=16)\n",
    "plt.axes().set_aspect('equal')\n",
    "plt.show()\n",
    "print('At zero threshold, precision: {:.2f}, recall: {:.2f}'\n",
    "      .format(closest_zero_p, closest_zero_r))"
   ]
  },
  {
   "cell_type": "code",
   "execution_count": null,
   "metadata": {
    "collapsed": true
   },
   "outputs": [],
   "source": []
  }
 ],
 "metadata": {
  "anaconda-cloud": {},
  "kernelspec": {
   "display_name": "Python 3",
   "language": "python",
   "name": "python3"
  },
  "language_info": {
   "codemirror_mode": {
    "name": "ipython",
    "version": 3
   },
   "file_extension": ".py",
   "mimetype": "text/x-python",
   "name": "python",
   "nbconvert_exporter": "python",
   "pygments_lexer": "ipython3",
   "version": "3.6.4"
  }
 },
 "nbformat": 4,
 "nbformat_minor": 1
}
